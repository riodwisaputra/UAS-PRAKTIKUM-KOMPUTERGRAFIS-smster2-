{
  "nbformat": 4,
  "nbformat_minor": 0,
  "metadata": {
    "colab": {
      "provenance": []
    },
    "kernelspec": {
      "name": "python3",
      "display_name": "Python 3"
    },
    "language_info": {
      "name": "python"
    }
  },
  "cells": [
    {
      "cell_type": "markdown",
      "source": [
        "**NAMA  : RIO DWI SAPUTRA**\n",
        "\n",
        "**NIM   : G.231.22.0074**\n",
        "\n",
        "**MATKUL: KOMPUTER GRAFIS (UAS)**"
      ],
      "metadata": {
        "id": "7ccFqt7QJeLk"
      }
    },
    {
      "cell_type": "code",
      "execution_count": 1,
      "metadata": {
        "colab": {
          "base_uri": "https://localhost:8080/",
          "height": 74
        },
        "id": "0fUSXVEsJZmt",
        "outputId": "83438f3d-3f5e-4fd3-c8e5-a706b78fee4c"
      },
      "outputs": [
        {
          "output_type": "display_data",
          "data": {
            "text/plain": [
              "<IPython.core.display.HTML object>"
            ],
            "text/html": [
              "\n",
              "     <input type=\"file\" id=\"files-afbe98a1-e780-4622-a0b1-4c43d7a01ed7\" name=\"files[]\" multiple disabled\n",
              "        style=\"border:none\" />\n",
              "     <output id=\"result-afbe98a1-e780-4622-a0b1-4c43d7a01ed7\">\n",
              "      Upload widget is only available when the cell has been executed in the\n",
              "      current browser session. Please rerun this cell to enable.\n",
              "      </output>\n",
              "      <script>// Copyright 2017 Google LLC\n",
              "//\n",
              "// Licensed under the Apache License, Version 2.0 (the \"License\");\n",
              "// you may not use this file except in compliance with the License.\n",
              "// You may obtain a copy of the License at\n",
              "//\n",
              "//      http://www.apache.org/licenses/LICENSE-2.0\n",
              "//\n",
              "// Unless required by applicable law or agreed to in writing, software\n",
              "// distributed under the License is distributed on an \"AS IS\" BASIS,\n",
              "// WITHOUT WARRANTIES OR CONDITIONS OF ANY KIND, either express or implied.\n",
              "// See the License for the specific language governing permissions and\n",
              "// limitations under the License.\n",
              "\n",
              "/**\n",
              " * @fileoverview Helpers for google.colab Python module.\n",
              " */\n",
              "(function(scope) {\n",
              "function span(text, styleAttributes = {}) {\n",
              "  const element = document.createElement('span');\n",
              "  element.textContent = text;\n",
              "  for (const key of Object.keys(styleAttributes)) {\n",
              "    element.style[key] = styleAttributes[key];\n",
              "  }\n",
              "  return element;\n",
              "}\n",
              "\n",
              "// Max number of bytes which will be uploaded at a time.\n",
              "const MAX_PAYLOAD_SIZE = 100 * 1024;\n",
              "\n",
              "function _uploadFiles(inputId, outputId) {\n",
              "  const steps = uploadFilesStep(inputId, outputId);\n",
              "  const outputElement = document.getElementById(outputId);\n",
              "  // Cache steps on the outputElement to make it available for the next call\n",
              "  // to uploadFilesContinue from Python.\n",
              "  outputElement.steps = steps;\n",
              "\n",
              "  return _uploadFilesContinue(outputId);\n",
              "}\n",
              "\n",
              "// This is roughly an async generator (not supported in the browser yet),\n",
              "// where there are multiple asynchronous steps and the Python side is going\n",
              "// to poll for completion of each step.\n",
              "// This uses a Promise to block the python side on completion of each step,\n",
              "// then passes the result of the previous step as the input to the next step.\n",
              "function _uploadFilesContinue(outputId) {\n",
              "  const outputElement = document.getElementById(outputId);\n",
              "  const steps = outputElement.steps;\n",
              "\n",
              "  const next = steps.next(outputElement.lastPromiseValue);\n",
              "  return Promise.resolve(next.value.promise).then((value) => {\n",
              "    // Cache the last promise value to make it available to the next\n",
              "    // step of the generator.\n",
              "    outputElement.lastPromiseValue = value;\n",
              "    return next.value.response;\n",
              "  });\n",
              "}\n",
              "\n",
              "/**\n",
              " * Generator function which is called between each async step of the upload\n",
              " * process.\n",
              " * @param {string} inputId Element ID of the input file picker element.\n",
              " * @param {string} outputId Element ID of the output display.\n",
              " * @return {!Iterable<!Object>} Iterable of next steps.\n",
              " */\n",
              "function* uploadFilesStep(inputId, outputId) {\n",
              "  const inputElement = document.getElementById(inputId);\n",
              "  inputElement.disabled = false;\n",
              "\n",
              "  const outputElement = document.getElementById(outputId);\n",
              "  outputElement.innerHTML = '';\n",
              "\n",
              "  const pickedPromise = new Promise((resolve) => {\n",
              "    inputElement.addEventListener('change', (e) => {\n",
              "      resolve(e.target.files);\n",
              "    });\n",
              "  });\n",
              "\n",
              "  const cancel = document.createElement('button');\n",
              "  inputElement.parentElement.appendChild(cancel);\n",
              "  cancel.textContent = 'Cancel upload';\n",
              "  const cancelPromise = new Promise((resolve) => {\n",
              "    cancel.onclick = () => {\n",
              "      resolve(null);\n",
              "    };\n",
              "  });\n",
              "\n",
              "  // Wait for the user to pick the files.\n",
              "  const files = yield {\n",
              "    promise: Promise.race([pickedPromise, cancelPromise]),\n",
              "    response: {\n",
              "      action: 'starting',\n",
              "    }\n",
              "  };\n",
              "\n",
              "  cancel.remove();\n",
              "\n",
              "  // Disable the input element since further picks are not allowed.\n",
              "  inputElement.disabled = true;\n",
              "\n",
              "  if (!files) {\n",
              "    return {\n",
              "      response: {\n",
              "        action: 'complete',\n",
              "      }\n",
              "    };\n",
              "  }\n",
              "\n",
              "  for (const file of files) {\n",
              "    const li = document.createElement('li');\n",
              "    li.append(span(file.name, {fontWeight: 'bold'}));\n",
              "    li.append(span(\n",
              "        `(${file.type || 'n/a'}) - ${file.size} bytes, ` +\n",
              "        `last modified: ${\n",
              "            file.lastModifiedDate ? file.lastModifiedDate.toLocaleDateString() :\n",
              "                                    'n/a'} - `));\n",
              "    const percent = span('0% done');\n",
              "    li.appendChild(percent);\n",
              "\n",
              "    outputElement.appendChild(li);\n",
              "\n",
              "    const fileDataPromise = new Promise((resolve) => {\n",
              "      const reader = new FileReader();\n",
              "      reader.onload = (e) => {\n",
              "        resolve(e.target.result);\n",
              "      };\n",
              "      reader.readAsArrayBuffer(file);\n",
              "    });\n",
              "    // Wait for the data to be ready.\n",
              "    let fileData = yield {\n",
              "      promise: fileDataPromise,\n",
              "      response: {\n",
              "        action: 'continue',\n",
              "      }\n",
              "    };\n",
              "\n",
              "    // Use a chunked sending to avoid message size limits. See b/62115660.\n",
              "    let position = 0;\n",
              "    do {\n",
              "      const length = Math.min(fileData.byteLength - position, MAX_PAYLOAD_SIZE);\n",
              "      const chunk = new Uint8Array(fileData, position, length);\n",
              "      position += length;\n",
              "\n",
              "      const base64 = btoa(String.fromCharCode.apply(null, chunk));\n",
              "      yield {\n",
              "        response: {\n",
              "          action: 'append',\n",
              "          file: file.name,\n",
              "          data: base64,\n",
              "        },\n",
              "      };\n",
              "\n",
              "      let percentDone = fileData.byteLength === 0 ?\n",
              "          100 :\n",
              "          Math.round((position / fileData.byteLength) * 100);\n",
              "      percent.textContent = `${percentDone}% done`;\n",
              "\n",
              "    } while (position < fileData.byteLength);\n",
              "  }\n",
              "\n",
              "  // All done.\n",
              "  yield {\n",
              "    response: {\n",
              "      action: 'complete',\n",
              "    }\n",
              "  };\n",
              "}\n",
              "\n",
              "scope.google = scope.google || {};\n",
              "scope.google.colab = scope.google.colab || {};\n",
              "scope.google.colab._files = {\n",
              "  _uploadFiles,\n",
              "  _uploadFilesContinue,\n",
              "};\n",
              "})(self);\n",
              "</script> "
            ]
          },
          "metadata": {}
        },
        {
          "output_type": "stream",
          "name": "stdout",
          "text": [
            "Saving stock.csv to stock.csv\n"
          ]
        }
      ],
      "source": [
        "#import module\n",
        "import pandas as pd\n",
        "import seaborn as sns\n",
        "import matplotlib.pyplot as plt\n",
        "from google.colab import files\n",
        "uploaded = files.upload()"
      ]
    },
    {
      "cell_type": "code",
      "source": [
        "# Membaca file CSV\n",
        "df = pd.read_csv('stock.csv')\n",
        "df"
      ],
      "metadata": {
        "colab": {
          "base_uri": "https://localhost:8080/",
          "height": 536
        },
        "id": "_31fUhFYKp3w",
        "outputId": "9fce74df-bbfd-410e-b708-75aee9dc3c39"
      },
      "execution_count": 2,
      "outputs": [
        {
          "output_type": "execute_result",
          "data": {
            "text/plain": [
              "                    Stock Name Symbol  Shares  Purchase Price ($)  \\\n",
              "0                        Apple   AAPL     100                  90   \n",
              "1                    Microsoft   MSFT     200                  32   \n",
              "2                   SalesForce    CRM     150                  25   \n",
              "3                       Oracle   ORCL     250                  50   \n",
              "4   Hewlett Packard Enterprise    HPE     500                  18   \n",
              "5                     Alphabet   GOOG     100                 225   \n",
              "6                        Intel   INTC     200                  22   \n",
              "7                        Cisco   CSCO     225                  18   \n",
              "8                     Qualcomm   QCOM     185                  65   \n",
              "9                       Amazon   AMZN      50                 800   \n",
              "10                      Redhat    RHT     100                  95   \n",
              "11                    Facebook     FB    1000                  17   \n",
              "12                     Twitter   TWTR     500                  45   \n",
              "\n",
              "    Cost Basis ($)  Current Price ($)  Market Value ($)  Gain/Loss ($)  \\\n",
              "0             9000             144.13          14413.27       14269.14   \n",
              "1             6400              65.57          13114.14       13048.57   \n",
              "2             3750              82.57          12385.50       12302.93   \n",
              "3            12500              44.56          11138.75       11094.20   \n",
              "4             9000              17.69           8842.50        8824.82   \n",
              "5            22500             833.36          83336.00       82502.64   \n",
              "6             4400              36.07           7213.00        7176.94   \n",
              "7             4050              33.24           7478.78        7445.54   \n",
              "8            12025              56.48          10447.88       10391.40   \n",
              "9            40000             897.64          44882.00       43984.14   \n",
              "10            9500              86.26           8626.00        8539.74   \n",
              "11            1700             141.64         141640.00      141498.36   \n",
              "12           22500              14.61           7302.55        7287.94   \n",
              "\n",
              "    Dividend/share  Annual Yield (%)  \n",
              "0             2.28              1.58  \n",
              "1             1.56              2.38  \n",
              "2             0.00              0.00  \n",
              "3             0.64              1.44  \n",
              "4             0.26              1.47  \n",
              "5             0.00              0.00  \n",
              "6             1.09              3.02  \n",
              "7             1.16              3.49  \n",
              "8             2.12              3.75  \n",
              "9             0.00              0.00  \n",
              "10            0.00              0.00  \n",
              "11            0.00              0.00  \n",
              "12            0.00              0.00  "
            ],
            "text/html": [
              "\n",
              "  <div id=\"df-d814a5df-ca4b-4b5d-ba4b-44090623c2a1\">\n",
              "    <div class=\"colab-df-container\">\n",
              "      <div>\n",
              "<style scoped>\n",
              "    .dataframe tbody tr th:only-of-type {\n",
              "        vertical-align: middle;\n",
              "    }\n",
              "\n",
              "    .dataframe tbody tr th {\n",
              "        vertical-align: top;\n",
              "    }\n",
              "\n",
              "    .dataframe thead th {\n",
              "        text-align: right;\n",
              "    }\n",
              "</style>\n",
              "<table border=\"1\" class=\"dataframe\">\n",
              "  <thead>\n",
              "    <tr style=\"text-align: right;\">\n",
              "      <th></th>\n",
              "      <th>Stock Name</th>\n",
              "      <th>Symbol</th>\n",
              "      <th>Shares</th>\n",
              "      <th>Purchase Price ($)</th>\n",
              "      <th>Cost Basis ($)</th>\n",
              "      <th>Current Price ($)</th>\n",
              "      <th>Market Value ($)</th>\n",
              "      <th>Gain/Loss ($)</th>\n",
              "      <th>Dividend/share</th>\n",
              "      <th>Annual Yield (%)</th>\n",
              "    </tr>\n",
              "  </thead>\n",
              "  <tbody>\n",
              "    <tr>\n",
              "      <th>0</th>\n",
              "      <td>Apple</td>\n",
              "      <td>AAPL</td>\n",
              "      <td>100</td>\n",
              "      <td>90</td>\n",
              "      <td>9000</td>\n",
              "      <td>144.13</td>\n",
              "      <td>14413.27</td>\n",
              "      <td>14269.14</td>\n",
              "      <td>2.28</td>\n",
              "      <td>1.58</td>\n",
              "    </tr>\n",
              "    <tr>\n",
              "      <th>1</th>\n",
              "      <td>Microsoft</td>\n",
              "      <td>MSFT</td>\n",
              "      <td>200</td>\n",
              "      <td>32</td>\n",
              "      <td>6400</td>\n",
              "      <td>65.57</td>\n",
              "      <td>13114.14</td>\n",
              "      <td>13048.57</td>\n",
              "      <td>1.56</td>\n",
              "      <td>2.38</td>\n",
              "    </tr>\n",
              "    <tr>\n",
              "      <th>2</th>\n",
              "      <td>SalesForce</td>\n",
              "      <td>CRM</td>\n",
              "      <td>150</td>\n",
              "      <td>25</td>\n",
              "      <td>3750</td>\n",
              "      <td>82.57</td>\n",
              "      <td>12385.50</td>\n",
              "      <td>12302.93</td>\n",
              "      <td>0.00</td>\n",
              "      <td>0.00</td>\n",
              "    </tr>\n",
              "    <tr>\n",
              "      <th>3</th>\n",
              "      <td>Oracle</td>\n",
              "      <td>ORCL</td>\n",
              "      <td>250</td>\n",
              "      <td>50</td>\n",
              "      <td>12500</td>\n",
              "      <td>44.56</td>\n",
              "      <td>11138.75</td>\n",
              "      <td>11094.20</td>\n",
              "      <td>0.64</td>\n",
              "      <td>1.44</td>\n",
              "    </tr>\n",
              "    <tr>\n",
              "      <th>4</th>\n",
              "      <td>Hewlett Packard Enterprise</td>\n",
              "      <td>HPE</td>\n",
              "      <td>500</td>\n",
              "      <td>18</td>\n",
              "      <td>9000</td>\n",
              "      <td>17.69</td>\n",
              "      <td>8842.50</td>\n",
              "      <td>8824.82</td>\n",
              "      <td>0.26</td>\n",
              "      <td>1.47</td>\n",
              "    </tr>\n",
              "    <tr>\n",
              "      <th>5</th>\n",
              "      <td>Alphabet</td>\n",
              "      <td>GOOG</td>\n",
              "      <td>100</td>\n",
              "      <td>225</td>\n",
              "      <td>22500</td>\n",
              "      <td>833.36</td>\n",
              "      <td>83336.00</td>\n",
              "      <td>82502.64</td>\n",
              "      <td>0.00</td>\n",
              "      <td>0.00</td>\n",
              "    </tr>\n",
              "    <tr>\n",
              "      <th>6</th>\n",
              "      <td>Intel</td>\n",
              "      <td>INTC</td>\n",
              "      <td>200</td>\n",
              "      <td>22</td>\n",
              "      <td>4400</td>\n",
              "      <td>36.07</td>\n",
              "      <td>7213.00</td>\n",
              "      <td>7176.94</td>\n",
              "      <td>1.09</td>\n",
              "      <td>3.02</td>\n",
              "    </tr>\n",
              "    <tr>\n",
              "      <th>7</th>\n",
              "      <td>Cisco</td>\n",
              "      <td>CSCO</td>\n",
              "      <td>225</td>\n",
              "      <td>18</td>\n",
              "      <td>4050</td>\n",
              "      <td>33.24</td>\n",
              "      <td>7478.78</td>\n",
              "      <td>7445.54</td>\n",
              "      <td>1.16</td>\n",
              "      <td>3.49</td>\n",
              "    </tr>\n",
              "    <tr>\n",
              "      <th>8</th>\n",
              "      <td>Qualcomm</td>\n",
              "      <td>QCOM</td>\n",
              "      <td>185</td>\n",
              "      <td>65</td>\n",
              "      <td>12025</td>\n",
              "      <td>56.48</td>\n",
              "      <td>10447.88</td>\n",
              "      <td>10391.40</td>\n",
              "      <td>2.12</td>\n",
              "      <td>3.75</td>\n",
              "    </tr>\n",
              "    <tr>\n",
              "      <th>9</th>\n",
              "      <td>Amazon</td>\n",
              "      <td>AMZN</td>\n",
              "      <td>50</td>\n",
              "      <td>800</td>\n",
              "      <td>40000</td>\n",
              "      <td>897.64</td>\n",
              "      <td>44882.00</td>\n",
              "      <td>43984.14</td>\n",
              "      <td>0.00</td>\n",
              "      <td>0.00</td>\n",
              "    </tr>\n",
              "    <tr>\n",
              "      <th>10</th>\n",
              "      <td>Redhat</td>\n",
              "      <td>RHT</td>\n",
              "      <td>100</td>\n",
              "      <td>95</td>\n",
              "      <td>9500</td>\n",
              "      <td>86.26</td>\n",
              "      <td>8626.00</td>\n",
              "      <td>8539.74</td>\n",
              "      <td>0.00</td>\n",
              "      <td>0.00</td>\n",
              "    </tr>\n",
              "    <tr>\n",
              "      <th>11</th>\n",
              "      <td>Facebook</td>\n",
              "      <td>FB</td>\n",
              "      <td>1000</td>\n",
              "      <td>17</td>\n",
              "      <td>1700</td>\n",
              "      <td>141.64</td>\n",
              "      <td>141640.00</td>\n",
              "      <td>141498.36</td>\n",
              "      <td>0.00</td>\n",
              "      <td>0.00</td>\n",
              "    </tr>\n",
              "    <tr>\n",
              "      <th>12</th>\n",
              "      <td>Twitter</td>\n",
              "      <td>TWTR</td>\n",
              "      <td>500</td>\n",
              "      <td>45</td>\n",
              "      <td>22500</td>\n",
              "      <td>14.61</td>\n",
              "      <td>7302.55</td>\n",
              "      <td>7287.94</td>\n",
              "      <td>0.00</td>\n",
              "      <td>0.00</td>\n",
              "    </tr>\n",
              "  </tbody>\n",
              "</table>\n",
              "</div>\n",
              "      <button class=\"colab-df-convert\" onclick=\"convertToInteractive('df-d814a5df-ca4b-4b5d-ba4b-44090623c2a1')\"\n",
              "              title=\"Convert this dataframe to an interactive table.\"\n",
              "              style=\"display:none;\">\n",
              "        \n",
              "  <svg xmlns=\"http://www.w3.org/2000/svg\" height=\"24px\"viewBox=\"0 0 24 24\"\n",
              "       width=\"24px\">\n",
              "    <path d=\"M0 0h24v24H0V0z\" fill=\"none\"/>\n",
              "    <path d=\"M18.56 5.44l.94 2.06.94-2.06 2.06-.94-2.06-.94-.94-2.06-.94 2.06-2.06.94zm-11 1L8.5 8.5l.94-2.06 2.06-.94-2.06-.94L8.5 2.5l-.94 2.06-2.06.94zm10 10l.94 2.06.94-2.06 2.06-.94-2.06-.94-.94-2.06-.94 2.06-2.06.94z\"/><path d=\"M17.41 7.96l-1.37-1.37c-.4-.4-.92-.59-1.43-.59-.52 0-1.04.2-1.43.59L10.3 9.45l-7.72 7.72c-.78.78-.78 2.05 0 2.83L4 21.41c.39.39.9.59 1.41.59.51 0 1.02-.2 1.41-.59l7.78-7.78 2.81-2.81c.8-.78.8-2.07 0-2.86zM5.41 20L4 18.59l7.72-7.72 1.47 1.35L5.41 20z\"/>\n",
              "  </svg>\n",
              "      </button>\n",
              "      \n",
              "  <style>\n",
              "    .colab-df-container {\n",
              "      display:flex;\n",
              "      flex-wrap:wrap;\n",
              "      gap: 12px;\n",
              "    }\n",
              "\n",
              "    .colab-df-convert {\n",
              "      background-color: #E8F0FE;\n",
              "      border: none;\n",
              "      border-radius: 50%;\n",
              "      cursor: pointer;\n",
              "      display: none;\n",
              "      fill: #1967D2;\n",
              "      height: 32px;\n",
              "      padding: 0 0 0 0;\n",
              "      width: 32px;\n",
              "    }\n",
              "\n",
              "    .colab-df-convert:hover {\n",
              "      background-color: #E2EBFA;\n",
              "      box-shadow: 0px 1px 2px rgba(60, 64, 67, 0.3), 0px 1px 3px 1px rgba(60, 64, 67, 0.15);\n",
              "      fill: #174EA6;\n",
              "    }\n",
              "\n",
              "    [theme=dark] .colab-df-convert {\n",
              "      background-color: #3B4455;\n",
              "      fill: #D2E3FC;\n",
              "    }\n",
              "\n",
              "    [theme=dark] .colab-df-convert:hover {\n",
              "      background-color: #434B5C;\n",
              "      box-shadow: 0px 1px 3px 1px rgba(0, 0, 0, 0.15);\n",
              "      filter: drop-shadow(0px 1px 2px rgba(0, 0, 0, 0.3));\n",
              "      fill: #FFFFFF;\n",
              "    }\n",
              "  </style>\n",
              "\n",
              "      <script>\n",
              "        const buttonEl =\n",
              "          document.querySelector('#df-d814a5df-ca4b-4b5d-ba4b-44090623c2a1 button.colab-df-convert');\n",
              "        buttonEl.style.display =\n",
              "          google.colab.kernel.accessAllowed ? 'block' : 'none';\n",
              "\n",
              "        async function convertToInteractive(key) {\n",
              "          const element = document.querySelector('#df-d814a5df-ca4b-4b5d-ba4b-44090623c2a1');\n",
              "          const dataTable =\n",
              "            await google.colab.kernel.invokeFunction('convertToInteractive',\n",
              "                                                     [key], {});\n",
              "          if (!dataTable) return;\n",
              "\n",
              "          const docLinkHtml = 'Like what you see? Visit the ' +\n",
              "            '<a target=\"_blank\" href=https://colab.research.google.com/notebooks/data_table.ipynb>data table notebook</a>'\n",
              "            + ' to learn more about interactive tables.';\n",
              "          element.innerHTML = '';\n",
              "          dataTable['output_type'] = 'display_data';\n",
              "          await google.colab.output.renderOutput(dataTable, element);\n",
              "          const docLink = document.createElement('div');\n",
              "          docLink.innerHTML = docLinkHtml;\n",
              "          element.appendChild(docLink);\n",
              "        }\n",
              "      </script>\n",
              "    </div>\n",
              "  </div>\n",
              "  "
            ]
          },
          "metadata": {},
          "execution_count": 2
        }
      ]
    },
    {
      "cell_type": "markdown",
      "source": [
        "**a. (1)Distribusi data pada setiap atribut Purchase Price dengan grafik histogram.**"
      ],
      "metadata": {
        "id": "Ph-g7udsKz0l"
      }
    },
    {
      "cell_type": "code",
      "source": [
        "#memilih data Purchase Price\n",
        "plt.hist(df['Purchase Price ($)'], bins=13, edgecolor='white', color=\"g\")\n",
        "\n",
        "#memberi keterangan nama / judul\n",
        "plt.xlabel('Purchase Price')\n",
        "plt.ylabel('Frequency')\n",
        "plt.title('Histogram of Purchase Price')\n",
        "\n",
        "#menampilkan data\n",
        "plt.show()"
      ],
      "metadata": {
        "colab": {
          "base_uri": "https://localhost:8080/",
          "height": 472
        },
        "id": "So3cN8SgK8QG",
        "outputId": "048b8def-2ed4-4434-bad2-a3be66bc1d49"
      },
      "execution_count": 4,
      "outputs": [
        {
          "output_type": "display_data",
          "data": {
            "text/plain": [
              "<Figure size 640x480 with 1 Axes>"
            ],
            "image/png": "[encoded data removed]"
          },
          "metadata": {}
        }
      ]
    },
    {
      "cell_type": "markdown",
      "source": [
        "**a. (2) Distribusi data pada setiap atribut Current Price dengan grafik histogram.**"
      ],
      "metadata": {
        "id": "_5e4rUAWLZ-v"
      }
    },
    {
      "cell_type": "code",
      "source": [
        "plt.figure(figsize=(10, 5))\n",
        "\n",
        "#memilih data Current Price\n",
        "plt.hist(df['Current Price ($)'], bins=13, edgecolor='white', color=\"g\")\n",
        "\n",
        "#memberi nama keterangan / judul\n",
        "plt.xlabel('Current Price')\n",
        "plt.ylabel('Frequency')\n",
        "plt.title('Histogram of Current Price')\n",
        "\n",
        "#menampilkan\n",
        "plt.show()"
      ],
      "metadata": {
        "colab": {
          "base_uri": "https://localhost:8080/",
          "height": 487
        },
        "id": "wQGpT4ZvLdLk",
        "outputId": "d877876d-3107-4dfb-adfb-08327163a7af"
      },
      "execution_count": 5,
      "outputs": [
        {
          "output_type": "display_data",
          "data": {
            "text/plain": [
              "<Figure size 1000x500 with 1 Axes>"
            ],
            "image/png": "[encoded data removed]"
          },
          "metadata": {}
        }
      ]
    },
    {
      "cell_type": "markdown",
      "source": [
        "**a. (3) Distribusi data pada setiap atribut Gaint/Loss dengan grafik histogram.**"
      ],
      "metadata": {
        "id": "TCHo9KgjLyXB"
      }
    },
    {
      "cell_type": "code",
      "source": [
        "plt.figure(figsize=(14, 5))\n",
        "\n",
        "#memilih data Gain/Loss\n",
        "plt.hist(df['Gain/Loss ($)'], bins=13, edgecolor='white', color=\"g\")\n",
        "\n",
        "#memberi keterangan / judul\n",
        "plt.xlabel('Gain/Loss')\n",
        "plt.ylabel('Frequency')\n",
        "plt.title('Histogram of Gain/Loss')\n",
        "\n",
        "#menampilkan\n",
        "plt.show()"
      ],
      "metadata": {
        "colab": {
          "base_uri": "https://localhost:8080/",
          "height": 487
        },
        "id": "egmm-cXtL1yQ",
        "outputId": "232cde53-37ba-4eb9-ce2b-581a1ccd78a0"
      },
      "execution_count": 6,
      "outputs": [
        {
          "output_type": "display_data",
          "data": {
            "text/plain": [
              "<Figure size 1400x500 with 1 Axes>"
            ],
            "image/png": "[encoded data removed]"
          },
          "metadata": {}
        }
      ]
    },
    {
      "cell_type": "markdown",
      "source": [
        "**b. Atribut Stock Name dan Symbol yang memiliki Dividen / Share 5 tertinggi.**"
      ],
      "metadata": {
        "id": "OrOfRFlyMC_n"
      }
    },
    {
      "cell_type": "code",
      "source": [
        "#memilih data Shares tertinggi\n",
        "sorted_df = df.sort_values('Dividend/share', ascending=False)\n",
        "td5 = sorted_df.head(5) #td5 (Top Divident 5)\n",
        "\n",
        "#memberi nomer urut\n",
        "td5 = td5.set_index(pd.Index(range(1, len(td5)+1)))\n",
        "\n",
        "#memberi nama tabel\n",
        "result = td5[['Stock Name', 'Symbol','Dividend/share']]\n",
        "\n",
        "#menampilkan hasil\n",
        "print('Top 5 Stocks with highest Dividend/share:')\n",
        "print(result)"
      ],
      "metadata": {
        "colab": {
          "base_uri": "https://localhost:8080/"
        },
        "id": "t60je24uL11e",
        "outputId": "2d32182e-3e93-4ccb-9e6d-3d2096dd0e31"
      },
      "execution_count": 7,
      "outputs": [
        {
          "output_type": "stream",
          "name": "stdout",
          "text": [
            "Top 5 Stocks with highest Dividend/share:\n",
            "  Stock Name Symbol  Dividend/share\n",
            "1      Apple   AAPL            2.28\n",
            "2   Qualcomm   QCOM            2.12\n",
            "3  Microsoft   MSFT            1.56\n",
            "4      Cisco   CSCO            1.16\n",
            "5      Intel   INTC            1.09\n"
          ]
        }
      ]
    },
    {
      "cell_type": "markdown",
      "source": [
        "**c. Atribut Stock Name dan Symbol yang memiliki Market Value 5 tertinggi.**"
      ],
      "metadata": {
        "id": "86XklQlhMVx8"
      }
    },
    {
      "cell_type": "code",
      "source": [
        "#memilih data market Value\n",
        "sorted_df = df.sort_values('Market Value ($)', ascending=False).reset_index(drop=True)\n",
        "top_mv = sorted_df.head(5) #mv = Market Value\n",
        "\n",
        "#memberi nomer urut\n",
        "top_mv = top_mv.set_index(pd.Index(range(1, len(top_mv)+1)))\n",
        "\n",
        "#memberi nama tabel\n",
        "result = top_mv[['Stock Name', 'Symbol','Market Value ($)']]\n",
        "\n",
        "#menampilkan hasil\n",
        "print('\\nTop 5 Stocks with highest Market Value:')\n",
        "print(result)\n"
      ],
      "metadata": {
        "colab": {
          "base_uri": "https://localhost:8080/"
        },
        "id": "q12Hj-qhMZm2",
        "outputId": "24dc1e94-710e-4343-d3b0-ab7a5336ad26"
      },
      "execution_count": 8,
      "outputs": [
        {
          "output_type": "stream",
          "name": "stdout",
          "text": [
            "\n",
            "Top 5 Stocks with highest Market Value:\n",
            "  Stock Name Symbol  Market Value ($)\n",
            "1   Facebook     FB         141640.00\n",
            "2   Alphabet   GOOG          83336.00\n",
            "3     Amazon   AMZN          44882.00\n",
            "4      Apple   AAPL          14413.27\n",
            "5  Microsoft   MSFT          13114.14\n"
          ]
        }
      ]
    },
    {
      "cell_type": "markdown",
      "source": [
        "d. Atribut Stock Name dan Symbol yang memiliki Annual Yield 7 tertinggi."
      ],
      "metadata": {
        "id": "KG8uorAWMgFB"
      }
    },
    {
      "cell_type": "code",
      "source": [
        "#memilih data Annual Yield\n",
        "sorted_df = df.sort_values('Annual Yield (%)', ascending=False)\n",
        "top_ay = sorted_df.head(7) #ay = Annual Yield\n",
        "\n",
        "#memberi nomer urut\n",
        "top_ay = top_ay.set_index(pd.Index(range(1, len(top_ay)+1)))\n",
        "\n",
        "#memberi nama tabel\n",
        "result = top_ay[['Stock Name', 'Symbol','Annual Yield (%)']]\n",
        "\n",
        "#menampilkan hasil\n",
        "print('\\nTop 7 Stocks with highest Annual Yield:')\n",
        "print(result)"
      ],
      "metadata": {
        "colab": {
          "base_uri": "https://localhost:8080/"
        },
        "id": "ZVKYQ8tPMhL-",
        "outputId": "d04c7eee-122d-4eb5-873d-9da447cb6801"
      },
      "execution_count": 9,
      "outputs": [
        {
          "output_type": "stream",
          "name": "stdout",
          "text": [
            "\n",
            "Top 7 Stocks with highest Annual Yield:\n",
            "                   Stock Name Symbol  Annual Yield (%)\n",
            "1                    Qualcomm   QCOM              3.75\n",
            "2                       Cisco   CSCO              3.49\n",
            "3                       Intel   INTC              3.02\n",
            "4                   Microsoft   MSFT              2.38\n",
            "5                       Apple   AAPL              1.58\n",
            "6  Hewlett Packard Enterprise    HPE              1.47\n",
            "7                      Oracle   ORCL              1.44\n"
          ]
        }
      ]
    }
  ]
}